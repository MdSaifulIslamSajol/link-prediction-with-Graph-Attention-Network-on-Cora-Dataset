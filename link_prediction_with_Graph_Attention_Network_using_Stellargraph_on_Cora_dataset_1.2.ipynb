{
 "cells": [
  {
   "cell_type": "code",
   "execution_count": 1,
   "id": "1383616f",
   "metadata": {},
   "outputs": [
    {
     "name": "stderr",
     "output_type": "stream",
     "text": [
      "2023-07-15 08:42:06.968274: I tensorflow/core/platform/cpu_feature_guard.cc:193] This TensorFlow binary is optimized with oneAPI Deep Neural Network Library (oneDNN) to use the following CPU instructions in performance-critical operations:  SSE4.1 SSE4.2 AVX AVX2 AVX512F AVX512_VNNI FMA\n",
      "To enable them in other operations, rebuild TensorFlow with the appropriate compiler flags.\n",
      "2023-07-15 08:42:07.067006: I tensorflow/core/util/port.cc:104] oneDNN custom operations are on. You may see slightly different numerical results due to floating-point round-off errors from different computation orders. To turn them off, set the environment variable `TF_ENABLE_ONEDNN_OPTS=0`.\n",
      "2023-07-15 08:42:08.569219: I tensorflow/core/platform/cpu_feature_guard.cc:193] This TensorFlow binary is optimized with oneAPI Deep Neural Network Library (oneDNN) to use the following CPU instructions in performance-critical operations:  SSE4.1 SSE4.2 AVX AVX2 AVX512F AVX512_VNNI FMA\n",
      "To enable them in other operations, rebuild TensorFlow with the appropriate compiler flags.\n",
      "2023-07-15 08:42:09.499182: I tensorflow/core/common_runtime/gpu/gpu_device.cc:1613] Created device /job:localhost/replica:0/task:0/device:GPU:0 with 30514 MB memory:  -> device: 0, name: Tesla V100-SXM2-32GB, pci bus id: 0000:3d:00.0, compute capability: 7.0\n"
     ]
    }
   ],
   "source": [
    "import os\n",
    "os.environ[\"CUDA_VISIBLE_DEVICES\"]=\"2\"\n",
    "import numpy as np\n",
    "import pandas as pd\n",
    "from stellargraph.data import EdgeSplitter\n",
    "from stellargraph import StellarGraph\n",
    "from stellargraph.mapper import FullBatchLinkGenerator\n",
    "from stellargraph.layer import GAT\n",
    "from tensorflow.keras.optimizers import Adam\n",
    "from tensorflow.keras.models import Model\n",
    "from tensorflow.keras.layers import Input\n",
    "from sklearn import preprocessing, feature_extraction\n",
    "import tensorflow as tf\n",
    "from tensorflow.keras.layers import Concatenate, Dense\n",
    "import tensorflow.keras.backend as K\n",
    "from stellargraph.datasets import Cora"
   ]
  },
  {
   "cell_type": "code",
   "execution_count": 2,
   "id": "3934749e",
   "metadata": {},
   "outputs": [
    {
     "name": "stdout",
     "output_type": "stream",
     "text": [
      "StellarGraph: Undirected multigraph\n",
      " Nodes: 2708, Edges: 5429\n",
      "\n",
      " Node types:\n",
      "  paper: [2708]\n",
      "    Features: float32 vector, length 1440\n",
      "    Edge types: paper-cites->paper\n",
      "\n",
      " Edge types:\n",
      "    paper-cites->paper: [5429]\n",
      "        Weights: all 1 (default)\n",
      "        Features: none\n"
     ]
    }
   ],
   "source": [
    "# Load the Cora dataset\n",
    "dataset = Cora()\n",
    "G, node_subjects = dataset.load(subject_as_feature=True)\n",
    "print(G.info())"
   ]
  },
  {
   "cell_type": "code",
   "execution_count": 3,
   "id": "905e29ed",
   "metadata": {},
   "outputs": [],
   "source": [
    "edge_splitter_test = EdgeSplitter(G)"
   ]
  },
  {
   "cell_type": "code",
   "execution_count": 4,
   "id": "54e556ca",
   "metadata": {},
   "outputs": [
    {
     "name": "stdout",
     "output_type": "stream",
     "text": [
      "** Sampled 542 positive and 542 negative edges. **\n"
     ]
    }
   ],
   "source": [
    "# Randomly sample a fraction p=0.1 of all positive links, and same number of negative links, from G, and obtain the\n",
    "# reduced graph G_test with the sampled links removed:\n",
    "G_test, edge_ids_test, edge_labels_test = edge_splitter_test.train_test_split(\n",
    "    p=0.1, method=\"global\", keep_connected=True\n",
    ")"
   ]
  },
  {
   "cell_type": "code",
   "execution_count": 5,
   "id": "ce778652",
   "metadata": {},
   "outputs": [
    {
     "name": "stdout",
     "output_type": "stream",
     "text": [
      "** Sampled 488 positive and 488 negative edges. **\n"
     ]
    }
   ],
   "source": [
    "# Define an edge splitter on the reduced graph G_test:\n",
    "edge_splitter_train = EdgeSplitter(G_test)\n",
    "\n",
    "# Randomly sample a fraction p=0.1 of all positive links, and same number of negative links, from G_test, and obtain the\n",
    "# reduced graph G_train with the sampled links removed:\n",
    "G_train, edge_ids_train, edge_labels_train = edge_splitter_train.train_test_split(\n",
    "    p=0.1, method=\"global\", keep_connected=True\n",
    ")"
   ]
  },
  {
   "cell_type": "code",
   "execution_count": 6,
   "id": "4f3b53f0",
   "metadata": {},
   "outputs": [],
   "source": [
    "# Preprocess node features\n",
    "node_features = G_train.node_features()\n",
    "node_features = preprocessing.StandardScaler().fit_transform(node_features)\n",
    "\n",
    "# Convert node features to sparse matrix format\n",
    "node_features = feature_extraction.text.TfidfTransformer().fit_transform(node_features)\n",
    "\n",
    "# Create the link generator for GAT\n",
    "generator = FullBatchLinkGenerator(G, method=\"gat\")"
   ]
  },
  {
   "cell_type": "code",
   "execution_count": 7,
   "id": "584b19b2",
   "metadata": {},
   "outputs": [],
   "source": [
    "# Create the GAT model for link prediction\n",
    "gat_layer_sizes = [20, 20, 20]\n",
    "gat = GAT(\n",
    "    layer_sizes=gat_layer_sizes,\n",
    "    # activations=[\"relu\", \"relu\"],\n",
    "    activations=[\"elu\", \"elu\",\"elu\"],  # better\n",
    "    # activations=[\"relu\", \"sigmoid\"],\n",
    "\n",
    "    attn_heads=8,\n",
    "    generator=generator,\n",
    "    in_dropout=0.5,\n",
    "    attn_dropout=0.5,\n",
    "    normalize=None,\n",
    ")\n"
   ]
  },
  {
   "cell_type": "code",
   "execution_count": 8,
   "id": "1d0f2e33",
   "metadata": {},
   "outputs": [
    {
     "name": "stderr",
     "output_type": "stream",
     "text": [
      "/home/saiful/anaconda3/envs/ePPI3/lib/python3.10/site-packages/keras/initializers/initializers_v2.py:120: UserWarning: The initializer GlorotUniform is unseeded and being called multiple times, which will return identical values  each time (even if the initializer is unseeded). Please update your code to provide a seed to the initializer, or avoid using the same initalizer instance more than once.\n",
      "  warnings.warn(\n"
     ]
    },
    {
     "name": "stdout",
     "output_type": "stream",
     "text": [
      "(None, 20)\n"
     ]
    }
   ],
   "source": [
    "# Define the input tensors for the GAT model\n",
    "x_in, x_out = gat.in_out_tensors()\n",
    "\n",
    "x0, x1 = tf.unstack(x_out, axis=2)\n",
    "x0 = tf.squeeze(x0, axis=0)  # Remove the first dimension\n",
    "x1 = tf.squeeze(x1, axis=0)  # Remove the first dimension\n",
    "\n",
    "print(x1.shape)\n",
    "\n",
    "concatenated_out = tf.concat([x0, x1], axis=-1)\n",
    "# concatenated_out= Concatenate()([x0, x1])\n",
    "\n",
    "dense_1 = Dense(units=64, activation='elu')(concatenated_out)\n",
    "dense_2 = Dense(units=32, activation='elu')(dense_1)\n",
    "prediction = Dense(units=1, activation='sigmoid')(dense_2)\n",
    "prediction = tf.expand_dims(prediction, axis=0)  # Remove the first dimension"
   ]
  },
  {
   "cell_type": "code",
   "execution_count": 9,
   "id": "99b9d869",
   "metadata": {},
   "outputs": [
    {
     "name": "stdout",
     "output_type": "stream",
     "text": [
      "flag 1.1 prediction.shape: (1, None, 1)\n"
     ]
    }
   ],
   "source": [
    "# Generate the node representations using the GAT model\n",
    "from stellargraph.layer import  link_classification\n",
    "from stellargraph.layer import GCN, LinkEmbedding\n",
    "from tensorflow import keras\n",
    "\n",
    "# prediction = LinkEmbedding(activation=\"relu\", method=\"ip\")(x_out)\n",
    "\n",
    "# prediction = link_classification(\n",
    "#     output_dim=1, output_act=\"relu\", edge_embedding_method=\"ip\"\n",
    "# )(x_out)\n",
    "\n",
    "# prediction = keras.layers.Reshape((-1,))(prediction)\n",
    "\n",
    "print(\"flag 1.1 prediction.shape:\" , prediction.shape)\n",
    "model = keras.Model(inputs=x_in, outputs=prediction)\n",
    "\n",
    "model.compile(\n",
    "    optimizer=keras.optimizers.Adam(learning_rate=0.01),\n",
    "    loss=keras.losses.binary_crossentropy,\n",
    "    metrics=[\"acc\"],\n",
    ")"
   ]
  },
  {
   "cell_type": "code",
   "execution_count": 10,
   "id": "2a8e0bb4",
   "metadata": {},
   "outputs": [
    {
     "name": "stdout",
     "output_type": "stream",
     "text": [
      "Model: \"model\"\n",
      "__________________________________________________________________________________________________\n",
      " Layer (type)                   Output Shape         Param #     Connected to                     \n",
      "==================================================================================================\n",
      " input_1 (InputLayer)           [(1, 2708, 1440)]    0           []                               \n",
      "                                                                                                  \n",
      " input_3 (InputLayer)           [(1, None, 2)]       0           []                               \n",
      "                                                                                                  \n",
      " input_4 (InputLayer)           [(1, None)]          0           []                               \n",
      "                                                                                                  \n",
      " dropout (Dropout)              (1, 2708, 1440)      0           ['input_1[0][0]']                \n",
      "                                                                                                  \n",
      " squeezed_sparse_conversion (Sq  (2708, 2708)        0           ['input_3[0][0]',                \n",
      " ueezedSparseConversion)                                          'input_4[0][0]']                \n",
      "                                                                                                  \n",
      " graph_attention_sparse (GraphA  (1, 2708, 160)      230882      ['dropout[0][0]',                \n",
      " ttentionSparse)                                                  'squeezed_sparse_conversion[0][0\n",
      "                                                                 ]']                              \n",
      "                                                                                                  \n",
      " dropout_1 (Dropout)            (1, 2708, 160)       0           ['graph_attention_sparse[0][0]'] \n",
      "                                                                                                  \n",
      " graph_attention_sparse_1 (Grap  (1, 2708, 160)      26082       ['dropout_1[0][0]',              \n",
      " hAttentionSparse)                                                'squeezed_sparse_conversion[0][0\n",
      "                                                                 ]']                              \n",
      "                                                                                                  \n",
      " dropout_2 (Dropout)            (1, 2708, 160)       0           ['graph_attention_sparse_1[0][0]'\n",
      "                                                                 ]                                \n",
      "                                                                                                  \n",
      " graph_attention_sparse_2 (Grap  (1, 2708, 20)       3262        ['dropout_2[0][0]',              \n",
      " hAttentionSparse)                                                'squeezed_sparse_conversion[0][0\n",
      "                                                                 ]']                              \n",
      "                                                                                                  \n",
      " input_2 (InputLayer)           [(1, None, 2)]       0           []                               \n",
      "                                                                                                  \n",
      " gather_indices (GatherIndices)  (1, None, 2, 20)    0           ['graph_attention_sparse_2[0][0]'\n",
      "                                                                 , 'input_2[0][0]']               \n",
      "                                                                                                  \n",
      " lambda (Lambda)                (1, None, 2, 20)     0           ['gather_indices[0][0]']         \n",
      "                                                                                                  \n",
      " tf.unstack (TFOpLambda)        [(1, None, 20),      0           ['lambda[0][0]']                 \n",
      "                                 (1, None, 20)]                                                   \n",
      "                                                                                                  \n",
      " tf.compat.v1.squeeze (TFOpLamb  (None, 20)          0           ['tf.unstack[0][0]']             \n",
      " da)                                                                                              \n",
      "                                                                                                  \n",
      " tf.compat.v1.squeeze_1 (TFOpLa  (None, 20)          0           ['tf.unstack[0][1]']             \n",
      " mbda)                                                                                            \n",
      "                                                                                                  \n",
      " tf.concat (TFOpLambda)         (None, 40)           0           ['tf.compat.v1.squeeze[0][0]',   \n",
      "                                                                  'tf.compat.v1.squeeze_1[0][0]'] \n",
      "                                                                                                  \n",
      " dense (Dense)                  (None, 64)           2624        ['tf.concat[0][0]']              \n",
      "                                                                                                  \n",
      " dense_1 (Dense)                (None, 32)           2080        ['dense[0][0]']                  \n",
      "                                                                                                  \n",
      " dense_2 (Dense)                (None, 1)            33          ['dense_1[0][0]']                \n",
      "                                                                                                  \n",
      " tf.expand_dims (TFOpLambda)    (1, None, 1)         0           ['dense_2[0][0]']                \n",
      "                                                                                                  \n",
      "==================================================================================================\n",
      "Total params: 264,963\n",
      "Trainable params: 264,957\n",
      "Non-trainable params: 6\n",
      "__________________________________________________________________________________________________\n"
     ]
    }
   ],
   "source": [
    "model.summary()"
   ]
  },
  {
   "cell_type": "code",
   "execution_count": 11,
   "id": "f0c92e2f",
   "metadata": {},
   "outputs": [
    {
     "name": "stdout",
     "output_type": "stream",
     "text": [
      "1/1 [==============================] - 2s 2s/step - loss: 0.6977 - acc: 0.5266\n",
      "1/1 [==============================] - 0s 162ms/step - loss: 0.6928 - acc: 0.5489\n"
     ]
    }
   ],
   "source": [
    "# Train the link prediction model\n",
    "train_gen = FullBatchLinkGenerator(G_train, method=\"gat\")\n",
    "train_flow = train_gen.flow(edge_ids_train, edge_labels_train)\n",
    "\n",
    "\n",
    "test_gen = FullBatchLinkGenerator(G_test, method=\"gat\")\n",
    "test_flow = test_gen.flow(edge_ids_test, edge_labels_test)\n",
    "\n",
    "init_train_metrics = model.evaluate(train_flow)\n",
    "init_test_metrics = model.evaluate(test_flow)"
   ]
  },
  {
   "cell_type": "code",
   "execution_count": 12,
   "id": "283537f4",
   "metadata": {},
   "outputs": [
    {
     "name": "stdout",
     "output_type": "stream",
     "text": [
      "\n",
      "Train Set Metrics of the initial (untrained) model:\n",
      "\tloss: 0.6977\n",
      "\tacc: 0.5266\n",
      "\n",
      "Test Set Metrics of the initial (untrained) model:\n",
      "\tloss: 0.6928\n",
      "\tacc: 0.5489\n"
     ]
    }
   ],
   "source": [
    "print(\"\\nTrain Set Metrics of the initial (untrained) model:\")\n",
    "for name, val in zip(model.metrics_names, init_train_metrics):\n",
    "    print(\"\\t{}: {:0.4f}\".format(name, val))\n",
    "\n",
    "print(\"\\nTest Set Metrics of the initial (untrained) model:\")\n",
    "for name, val in zip(model.metrics_names, init_test_metrics):\n",
    "    print(\"\\t{}: {:0.4f}\".format(name, val))"
   ]
  },
  {
   "cell_type": "code",
   "execution_count": 13,
   "id": "672a282b",
   "metadata": {},
   "outputs": [
    {
     "name": "stdout",
     "output_type": "stream",
     "text": [
      "Epoch 1/50\n"
     ]
    },
    {
     "name": "stderr",
     "output_type": "stream",
     "text": [
      "2023-07-15 08:42:21.879293: I tensorflow/compiler/xla/service/service.cc:173] XLA service 0x7f65440185d0 initialized for platform CUDA (this does not guarantee that XLA will be used). Devices:\n",
      "2023-07-15 08:42:21.879367: I tensorflow/compiler/xla/service/service.cc:181]   StreamExecutor device (0): Tesla V100-SXM2-32GB, Compute Capability 7.0\n",
      "2023-07-15 08:42:21.894410: I tensorflow/compiler/mlir/tensorflow/utils/dump_mlir_util.cc:268] disabling MLIR crash reproducer, set env var `MLIR_CRASH_REPRODUCER_DIRECTORY` to enable.\n",
      "2023-07-15 08:42:22.514026: I tensorflow/compiler/jit/xla_compilation_cache.cc:477] Compiled cluster using XLA!  This line is logged at most once for the lifetime of the process.\n"
     ]
    },
    {
     "name": "stdout",
     "output_type": "stream",
     "text": [
      "1/1 - 13s - loss: 0.7376 - acc: 0.4621 - val_loss: 0.6959 - val_acc: 0.4935 - 13s/epoch - 13s/step\n",
      "Epoch 2/50\n",
      "1/1 - 0s - loss: 0.7044 - acc: 0.5020 - val_loss: 0.8612 - val_acc: 0.5000 - 313ms/epoch - 313ms/step\n",
      "Epoch 3/50\n",
      "1/1 - 0s - loss: 0.7625 - acc: 0.5123 - val_loss: 0.7103 - val_acc: 0.4991 - 301ms/epoch - 301ms/step\n",
      "Epoch 4/50\n",
      "1/1 - 0s - loss: 0.7285 - acc: 0.5123 - val_loss: 0.7088 - val_acc: 0.5000 - 297ms/epoch - 297ms/step\n",
      "Epoch 5/50\n",
      "1/1 - 0s - loss: 0.6878 - acc: 0.5523 - val_loss: 0.7535 - val_acc: 0.5000 - 318ms/epoch - 318ms/step\n",
      "Epoch 6/50\n",
      "1/1 - 0s - loss: 0.7060 - acc: 0.5266 - val_loss: 0.6878 - val_acc: 0.5351 - 299ms/epoch - 299ms/step\n",
      "Epoch 7/50\n",
      "1/1 - 0s - loss: 0.6884 - acc: 0.5594 - val_loss: 0.6862 - val_acc: 0.5673 - 297ms/epoch - 297ms/step\n",
      "Epoch 8/50\n",
      "1/1 - 0s - loss: 0.6760 - acc: 0.5748 - val_loss: 0.6991 - val_acc: 0.5212 - 303ms/epoch - 303ms/step\n",
      "Epoch 9/50\n",
      "1/1 - 0s - loss: 0.6485 - acc: 0.6219 - val_loss: 0.7477 - val_acc: 0.5046 - 286ms/epoch - 286ms/step\n",
      "Epoch 10/50\n",
      "1/1 - 0s - loss: 0.6549 - acc: 0.6107 - val_loss: 0.7498 - val_acc: 0.5157 - 299ms/epoch - 299ms/step\n",
      "Epoch 11/50\n",
      "1/1 - 0s - loss: 0.6490 - acc: 0.6137 - val_loss: 0.7114 - val_acc: 0.5461 - 301ms/epoch - 301ms/step\n",
      "Epoch 12/50\n",
      "1/1 - 0s - loss: 0.6391 - acc: 0.6270 - val_loss: 0.7205 - val_acc: 0.5544 - 305ms/epoch - 305ms/step\n",
      "Epoch 13/50\n",
      "1/1 - 0s - loss: 0.6380 - acc: 0.6455 - val_loss: 0.7436 - val_acc: 0.5387 - 284ms/epoch - 284ms/step\n",
      "Epoch 14/50\n",
      "1/1 - 0s - loss: 0.6109 - acc: 0.6598 - val_loss: 0.7410 - val_acc: 0.5415 - 319ms/epoch - 319ms/step\n",
      "Epoch 15/50\n",
      "1/1 - 0s - loss: 0.5918 - acc: 0.6639 - val_loss: 0.6935 - val_acc: 0.5803 - 300ms/epoch - 300ms/step\n",
      "Epoch 16/50\n",
      "1/1 - 0s - loss: 0.5891 - acc: 0.6988 - val_loss: 0.6624 - val_acc: 0.6116 - 309ms/epoch - 309ms/step\n",
      "Epoch 17/50\n",
      "1/1 - 0s - loss: 0.5695 - acc: 0.6977 - val_loss: 0.6652 - val_acc: 0.6236 - 309ms/epoch - 309ms/step\n",
      "Epoch 18/50\n",
      "1/1 - 0s - loss: 0.5565 - acc: 0.7111 - val_loss: 0.6473 - val_acc: 0.6421 - 308ms/epoch - 308ms/step\n",
      "Epoch 19/50\n",
      "1/1 - 0s - loss: 0.5232 - acc: 0.7357 - val_loss: 0.6112 - val_acc: 0.6845 - 292ms/epoch - 292ms/step\n",
      "Epoch 20/50\n",
      "1/1 - 0s - loss: 0.5085 - acc: 0.7561 - val_loss: 0.6033 - val_acc: 0.6965 - 324ms/epoch - 324ms/step\n",
      "Epoch 21/50\n",
      "1/1 - 0s - loss: 0.4980 - acc: 0.7551 - val_loss: 0.6346 - val_acc: 0.6946 - 322ms/epoch - 322ms/step\n",
      "Epoch 22/50\n",
      "1/1 - 0s - loss: 0.5069 - acc: 0.7572 - val_loss: 0.6242 - val_acc: 0.7085 - 290ms/epoch - 290ms/step\n",
      "Epoch 23/50\n",
      "1/1 - 0s - loss: 0.4698 - acc: 0.7736 - val_loss: 0.6113 - val_acc: 0.7159 - 305ms/epoch - 305ms/step\n",
      "Epoch 24/50\n",
      "1/1 - 0s - loss: 0.4919 - acc: 0.7654 - val_loss: 0.6173 - val_acc: 0.7186 - 284ms/epoch - 284ms/step\n",
      "Epoch 25/50\n",
      "1/1 - 0s - loss: 0.5069 - acc: 0.7807 - val_loss: 0.6834 - val_acc: 0.7140 - 293ms/epoch - 293ms/step\n",
      "Epoch 26/50\n",
      "1/1 - 0s - loss: 0.4664 - acc: 0.7859 - val_loss: 0.6699 - val_acc: 0.7030 - 309ms/epoch - 309ms/step\n",
      "Epoch 27/50\n",
      "1/1 - 0s - loss: 0.4497 - acc: 0.7828 - val_loss: 0.6142 - val_acc: 0.7066 - 270ms/epoch - 270ms/step\n",
      "Epoch 28/50\n",
      "1/1 - 0s - loss: 0.4293 - acc: 0.8084 - val_loss: 0.5924 - val_acc: 0.7232 - 298ms/epoch - 298ms/step\n",
      "Epoch 29/50\n",
      "1/1 - 0s - loss: 0.4350 - acc: 0.8166 - val_loss: 0.6006 - val_acc: 0.7269 - 290ms/epoch - 290ms/step\n",
      "Epoch 30/50\n",
      "1/1 - 0s - loss: 0.4119 - acc: 0.8238 - val_loss: 0.6137 - val_acc: 0.7232 - 300ms/epoch - 300ms/step\n",
      "Epoch 31/50\n",
      "1/1 - 0s - loss: 0.4030 - acc: 0.8094 - val_loss: 0.6127 - val_acc: 0.7306 - 290ms/epoch - 290ms/step\n",
      "Epoch 32/50\n",
      "1/1 - 0s - loss: 0.4114 - acc: 0.8043 - val_loss: 0.5812 - val_acc: 0.7435 - 303ms/epoch - 303ms/step\n",
      "Epoch 33/50\n",
      "1/1 - 0s - loss: 0.3853 - acc: 0.8340 - val_loss: 0.5678 - val_acc: 0.7472 - 280ms/epoch - 280ms/step\n",
      "Epoch 34/50\n",
      "1/1 - 0s - loss: 0.4119 - acc: 0.8002 - val_loss: 0.5755 - val_acc: 0.7491 - 284ms/epoch - 284ms/step\n",
      "Epoch 35/50\n",
      "1/1 - 0s - loss: 0.4219 - acc: 0.8084 - val_loss: 0.6572 - val_acc: 0.7362 - 300ms/epoch - 300ms/step\n",
      "Epoch 36/50\n",
      "1/1 - 0s - loss: 0.3923 - acc: 0.8248 - val_loss: 0.6716 - val_acc: 0.7343 - 314ms/epoch - 314ms/step\n",
      "Epoch 37/50\n",
      "1/1 - 0s - loss: 0.4024 - acc: 0.8268 - val_loss: 0.6626 - val_acc: 0.7343 - 312ms/epoch - 312ms/step\n",
      "Epoch 38/50\n",
      "1/1 - 0s - loss: 0.3538 - acc: 0.8504 - val_loss: 0.6225 - val_acc: 0.7426 - 315ms/epoch - 315ms/step\n",
      "Epoch 39/50\n",
      "1/1 - 0s - loss: 0.3718 - acc: 0.8330 - val_loss: 0.5821 - val_acc: 0.7685 - 288ms/epoch - 288ms/step\n",
      "Epoch 40/50\n",
      "1/1 - 0s - loss: 0.3520 - acc: 0.8555 - val_loss: 0.5764 - val_acc: 0.7712 - 302ms/epoch - 302ms/step\n",
      "Epoch 41/50\n",
      "1/1 - 0s - loss: 0.3498 - acc: 0.8463 - val_loss: 0.5978 - val_acc: 0.7694 - 287ms/epoch - 287ms/step\n",
      "Epoch 42/50\n",
      "1/1 - 0s - loss: 0.3172 - acc: 0.8648 - val_loss: 0.6360 - val_acc: 0.7601 - 299ms/epoch - 299ms/step\n",
      "Epoch 43/50\n",
      "1/1 - 0s - loss: 0.3614 - acc: 0.8443 - val_loss: 0.6835 - val_acc: 0.7482 - 299ms/epoch - 299ms/step\n",
      "Epoch 44/50\n",
      "1/1 - 0s - loss: 0.3556 - acc: 0.8494 - val_loss: 0.7117 - val_acc: 0.7472 - 294ms/epoch - 294ms/step\n",
      "Epoch 45/50\n",
      "1/1 - 0s - loss: 0.3523 - acc: 0.8494 - val_loss: 0.7012 - val_acc: 0.7509 - 290ms/epoch - 290ms/step\n",
      "Epoch 46/50\n",
      "1/1 - 0s - loss: 0.3419 - acc: 0.8443 - val_loss: 0.6696 - val_acc: 0.7509 - 286ms/epoch - 286ms/step\n",
      "Epoch 47/50\n",
      "1/1 - 0s - loss: 0.3217 - acc: 0.8668 - val_loss: 0.6517 - val_acc: 0.7565 - 295ms/epoch - 295ms/step\n",
      "Epoch 48/50\n",
      "1/1 - 0s - loss: 0.3132 - acc: 0.8658 - val_loss: 0.6373 - val_acc: 0.7555 - 289ms/epoch - 289ms/step\n",
      "Epoch 49/50\n",
      "1/1 - 0s - loss: 0.2976 - acc: 0.8750 - val_loss: 0.6152 - val_acc: 0.7583 - 306ms/epoch - 306ms/step\n",
      "Epoch 50/50\n",
      "1/1 - 0s - loss: 0.3328 - acc: 0.8535 - val_loss: 0.6025 - val_acc: 0.7555 - 291ms/epoch - 291ms/step\n"
     ]
    }
   ],
   "source": [
    "history = model.fit(\n",
    "    train_flow, epochs=50, validation_data=test_flow, verbose=2, shuffle=False\n",
    ")\n"
   ]
  },
  {
   "cell_type": "code",
   "execution_count": 14,
   "id": "81a7978a",
   "metadata": {},
   "outputs": [
    {
     "data": {
      "image/png": "[encoded data removed]",
      "text/plain": [
       "<Figure size 700x800 with 2 Axes>"
      ]
     },
     "metadata": {},
     "output_type": "display_data"
    }
   ],
   "source": [
    "import stellargraph as sg\n",
    "\n",
    "sg.utils.plot_history(history)\n"
   ]
  },
  {
   "cell_type": "code",
   "execution_count": 15,
   "id": "e42c6b30",
   "metadata": {},
   "outputs": [
    {
     "name": "stdout",
     "output_type": "stream",
     "text": [
      "1/1 [==============================] - 0s 133ms/step - loss: 0.1827 - acc: 0.9334\n",
      "1/1 [==============================] - 0s 142ms/step - loss: 0.6025 - acc: 0.7555\n"
     ]
    }
   ],
   "source": [
    "train_metrics = model.evaluate(train_flow)\n",
    "test_metrics = model.evaluate(test_flow)\n"
   ]
  },
  {
   "cell_type": "code",
   "execution_count": 16,
   "id": "8fa5e3f9",
   "metadata": {},
   "outputs": [
    {
     "name": "stdout",
     "output_type": "stream",
     "text": [
      "\n",
      "Train Set Metrics of the trained model:\n",
      "\tloss: 0.1827\n",
      "\tacc: 0.9334\n",
      "\n",
      "Test Set Metrics of the trained model:\n",
      "\tloss: 0.6025\n",
      "\tacc: 0.7555\n"
     ]
    }
   ],
   "source": [
    "print(\"\\nTrain Set Metrics of the trained model:\")\n",
    "for name, val in zip(model.metrics_names, train_metrics):\n",
    "    print(\"\\t{}: {:0.4f}\".format(name, val))\n",
    "\n",
    "print(\"\\nTest Set Metrics of the trained model:\")\n",
    "for name, val in zip(model.metrics_names, test_metrics):\n",
    "    print(\"\\t{}: {:0.4f}\".format(name, val))"
   ]
  }
 ],
 "metadata": {
  "kernelspec": {
   "display_name": "Python 3 (ipykernel)",
   "language": "python",
   "name": "python3"
  },
  "language_info": {
   "codemirror_mode": {
    "name": "ipython",
    "version": 3
   },
   "file_extension": ".py",
   "mimetype": "text/x-python",
   "name": "python",
   "nbconvert_exporter": "python",
   "pygments_lexer": "ipython3",
   "version": "3.10.12"
  }
 },
 "nbformat": 4,
 "nbformat_minor": 5
}
