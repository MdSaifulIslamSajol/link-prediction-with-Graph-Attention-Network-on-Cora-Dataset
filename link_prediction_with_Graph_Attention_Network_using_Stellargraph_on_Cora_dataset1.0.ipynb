{
 "cells": [
  {
   "cell_type": "code",
   "execution_count": 1,
   "id": "0a3cd8bc",
   "metadata": {},
   "outputs": [
    {
     "name": "stderr",
     "output_type": "stream",
     "text": [
      "2023-07-15 08:43:25.670576: I tensorflow/core/platform/cpu_feature_guard.cc:193] This TensorFlow binary is optimized with oneAPI Deep Neural Network Library (oneDNN) to use the following CPU instructions in performance-critical operations:  SSE4.1 SSE4.2 AVX AVX2 AVX512F AVX512_VNNI FMA\n",
      "To enable them in other operations, rebuild TensorFlow with the appropriate compiler flags.\n",
      "2023-07-15 08:43:25.769731: I tensorflow/core/util/port.cc:104] oneDNN custom operations are on. You may see slightly different numerical results due to floating-point round-off errors from different computation orders. To turn them off, set the environment variable `TF_ENABLE_ONEDNN_OPTS=0`.\n",
      "2023-07-15 08:43:27.270277: I tensorflow/core/platform/cpu_feature_guard.cc:193] This TensorFlow binary is optimized with oneAPI Deep Neural Network Library (oneDNN) to use the following CPU instructions in performance-critical operations:  SSE4.1 SSE4.2 AVX AVX2 AVX512F AVX512_VNNI FMA\n",
      "To enable them in other operations, rebuild TensorFlow with the appropriate compiler flags.\n",
      "2023-07-15 08:43:28.319066: I tensorflow/core/common_runtime/gpu/gpu_device.cc:1613] Created device /job:localhost/replica:0/task:0/device:GPU:0 with 30514 MB memory:  -> device: 0, name: Tesla V100-SXM2-32GB, pci bus id: 0000:88:00.0, compute capability: 7.0\n"
     ]
    }
   ],
   "source": [
    "import os\n",
    "os.environ[\"CUDA_VISIBLE_DEVICES\"]=\"4\"\n",
    "\n",
    "import numpy as np\n",
    "import pandas as pd\n",
    "from stellargraph.data import EdgeSplitter\n",
    "from stellargraph import StellarGraph\n",
    "from stellargraph.mapper import FullBatchLinkGenerator\n",
    "from stellargraph.layer import GAT\n",
    "from tensorflow.keras.optimizers import Adam\n",
    "from tensorflow.keras.models import Model\n",
    "from tensorflow.keras.layers import Input\n",
    "from sklearn import preprocessing, feature_extraction\n",
    "\n",
    "from stellargraph.datasets import Cora"
   ]
  },
  {
   "cell_type": "code",
   "execution_count": 2,
   "id": "5d9ca024",
   "metadata": {},
   "outputs": [
    {
     "name": "stdout",
     "output_type": "stream",
     "text": [
      "StellarGraph: Undirected multigraph\n",
      " Nodes: 2708, Edges: 5429\n",
      "\n",
      " Node types:\n",
      "  paper: [2708]\n",
      "    Features: float32 vector, length 1440\n",
      "    Edge types: paper-cites->paper\n",
      "\n",
      " Edge types:\n",
      "    paper-cites->paper: [5429]\n",
      "        Weights: all 1 (default)\n",
      "        Features: none\n"
     ]
    }
   ],
   "source": [
    "# Load the Cora dataset\n",
    "dataset = Cora()\n",
    "G, node_subjects = dataset.load(subject_as_feature=True)\n",
    "print(G.info())\n",
    "\n",
    "# # Split the graph into train and test sets\n",
    "# edge_splitter = EdgeSplitter(G)\n",
    "# edges_train_test= edge_splitter.train_test_split(p=0.1, method=\"global\")\n",
    "# G_train, edge_ids_train, edge_labels_train = edge_splitter.train_test_split(\n",
    "#     p=0.1, method=\"global\", keep_connected=True\n",
    "# )"
   ]
  },
  {
   "cell_type": "code",
   "execution_count": 3,
   "id": "b7380504",
   "metadata": {},
   "outputs": [
    {
     "name": "stdout",
     "output_type": "stream",
     "text": [
      "** Sampled 542 positive and 542 negative edges. **\n",
      "** Sampled 488 positive and 488 negative edges. **\n"
     ]
    }
   ],
   "source": [
    "edge_splitter_test = EdgeSplitter(G)\n",
    "\n",
    "# Randomly sample a fraction p=0.1 of all positive links, and same number of negative links, from G, and obtain the\n",
    "# reduced graph G_test with the sampled links removed:\n",
    "G_test, edge_ids_test, edge_labels_test = edge_splitter_test.train_test_split(\n",
    "    p=0.1, method=\"global\", keep_connected=True\n",
    ")\n",
    "\n",
    "\"\"\"The reduced graph G_test, together with the test ground truth set of links (edge_ids_test, edge_labels_test), will be used for testing the model.\n",
    "\n",
    "Now repeat this procedure to obtain the training data for the model. From the reduced graph G_test, extract a randomly sampled subset of train edges (true and false citation links) and the reduced graph G_train with the positive train edges removed:\n",
    "\"\"\"\n",
    "\n",
    "# Define an edge splitter on the reduced graph G_test:\n",
    "edge_splitter_train = EdgeSplitter(G_test)\n",
    "\n",
    "# Randomly sample a fraction p=0.1 of all positive links, and same number of negative links, from G_test, and obtain the\n",
    "# reduced graph G_train with the sampled links removed:\n",
    "G_train, edge_ids_train, edge_labels_train = edge_splitter_train.train_test_split(\n",
    "    p=0.1, method=\"global\", keep_connected=True\n",
    ")\n"
   ]
  },
  {
   "cell_type": "code",
   "execution_count": 4,
   "id": "b2746d5c",
   "metadata": {},
   "outputs": [],
   "source": [
    "# Preprocess node features\n",
    "node_features = G_train.node_features()\n",
    "node_features = preprocessing.StandardScaler().fit_transform(node_features)\n",
    "\n",
    "# Convert node features to sparse matrix format\n",
    "node_features = feature_extraction.text.TfidfTransformer().fit_transform(node_features)\n",
    "\n",
    "# Create the link generator for GAT\n",
    "generator = FullBatchLinkGenerator(G, method=\"gat\")"
   ]
  },
  {
   "cell_type": "code",
   "execution_count": 5,
   "id": "da339d08",
   "metadata": {},
   "outputs": [],
   "source": [
    "# Create the GAT model for link prediction\n",
    "gat_layer_sizes = [8, 8]\n",
    "gat = GAT(\n",
    "    layer_sizes=gat_layer_sizes,\n",
    "    # activations=[\"relu\", \"relu\"],\n",
    "    activations=[\"elu\", \"softmax\"],  # better\n",
    "    # activations=[\"elu\", \"elu\"],\n",
    "\n",
    "    attn_heads=8,\n",
    "    generator=generator,\n",
    "    in_dropout=0.5,\n",
    "    attn_dropout=0.5,\n",
    "    normalize=None,\n",
    ")"
   ]
  },
  {
   "cell_type": "code",
   "execution_count": 6,
   "id": "776ba5bf",
   "metadata": {},
   "outputs": [
    {
     "name": "stderr",
     "output_type": "stream",
     "text": [
      "/home/saiful/anaconda3/envs/ePPI3/lib/python3.10/site-packages/keras/initializers/initializers_v2.py:120: UserWarning: The initializer GlorotUniform is unseeded and being called multiple times, which will return identical values  each time (even if the initializer is unseeded). Please update your code to provide a seed to the initializer, or avoid using the same initalizer instance more than once.\n",
      "  warnings.warn(\n"
     ]
    }
   ],
   "source": [
    "import tensorflow as tf\n",
    "from tensorflow.keras import layers\n",
    "# Define the input tensors for the GAT model\n",
    "x_in, x_out = gat.in_out_tensors()\n",
    "\n",
    "# Generate the node representations using the GAT model\n",
    "from stellargraph.layer import  link_classification\n",
    "from stellargraph.layer import GCN, LinkEmbedding\n",
    "from tensorflow import keras\n",
    "\n",
    "prediction = LinkEmbedding(activation=\"relu\", method=\"ip\")(x_out)\n",
    "\n",
    "# prediction = layers.Dense(units=1, activation='sigmoid')(prediction_1)\n",
    "# prediction_1 = tf.squeeze(prediction_1, axis=0) \n",
    "#%%\n",
    "\n",
    "# prediction = link_classification(\n",
    "#     output_dim=1, output_act=\"relu\", edge_embedding_method=\"ip\"\n",
    "# )(x_out)\n",
    "\n",
    "# prediction = keras.layers.Reshape((-1,))(prediction)"
   ]
  },
  {
   "cell_type": "code",
   "execution_count": 7,
   "id": "64ae73b8",
   "metadata": {},
   "outputs": [],
   "source": [
    "\n",
    "model = keras.Model(inputs=x_in, outputs=prediction)\n",
    "\n",
    "model.compile(\n",
    "    optimizer=keras.optimizers.Adam(learning_rate=0.01),\n",
    "    loss=keras.losses.binary_crossentropy,\n",
    "    metrics=[\"acc\"],\n",
    ")"
   ]
  },
  {
   "cell_type": "code",
   "execution_count": 8,
   "id": "eb5e089d",
   "metadata": {},
   "outputs": [
    {
     "name": "stdout",
     "output_type": "stream",
     "text": [
      "Model: \"model\"\n",
      "__________________________________________________________________________________________________\n",
      " Layer (type)                   Output Shape         Param #     Connected to                     \n",
      "==================================================================================================\n",
      " input_1 (InputLayer)           [(1, 2708, 1440)]    0           []                               \n",
      "                                                                                                  \n",
      " input_3 (InputLayer)           [(1, None, 2)]       0           []                               \n",
      "                                                                                                  \n",
      " input_4 (InputLayer)           [(1, None)]          0           []                               \n",
      "                                                                                                  \n",
      " dropout (Dropout)              (1, 2708, 1440)      0           ['input_1[0][0]']                \n",
      "                                                                                                  \n",
      " squeezed_sparse_conversion (Sq  (2708, 2708)        0           ['input_3[0][0]',                \n",
      " ueezedSparseConversion)                                          'input_4[0][0]']                \n",
      "                                                                                                  \n",
      " graph_attention_sparse (GraphA  (1, 2708, 64)       92354       ['dropout[0][0]',                \n",
      " ttentionSparse)                                                  'squeezed_sparse_conversion[0][0\n",
      "                                                                 ]']                              \n",
      "                                                                                                  \n",
      " dropout_1 (Dropout)            (1, 2708, 64)        0           ['graph_attention_sparse[0][0]'] \n",
      "                                                                                                  \n",
      " graph_attention_sparse_1 (Grap  (1, 2708, 8)        538         ['dropout_1[0][0]',              \n",
      " hAttentionSparse)                                                'squeezed_sparse_conversion[0][0\n",
      "                                                                 ]']                              \n",
      "                                                                                                  \n",
      " input_2 (InputLayer)           [(1, None, 2)]       0           []                               \n",
      "                                                                                                  \n",
      " gather_indices (GatherIndices)  (1, None, 2, 8)     0           ['graph_attention_sparse_1[0][0]'\n",
      "                                                                 , 'input_2[0][0]']               \n",
      "                                                                                                  \n",
      " lambda (Lambda)                (1, None, 2, 8)      0           ['gather_indices[0][0]']         \n",
      "                                                                                                  \n",
      " link_embedding (LinkEmbedding)  (1, None, 1)        0           ['lambda[0][0]']                 \n",
      "                                                                                                  \n",
      "==================================================================================================\n",
      "Total params: 92,892\n",
      "Trainable params: 92,888\n",
      "Non-trainable params: 4\n",
      "__________________________________________________________________________________________________\n"
     ]
    }
   ],
   "source": [
    "model.summary()"
   ]
  },
  {
   "cell_type": "code",
   "execution_count": 9,
   "id": "8fcc0195",
   "metadata": {},
   "outputs": [],
   "source": [
    "# Train the link prediction model\n",
    "train_gen = FullBatchLinkGenerator(G_train, method=\"gat\")\n",
    "train_flow = train_gen.flow(edge_ids_train, edge_labels_train)\n"
   ]
  },
  {
   "cell_type": "code",
   "execution_count": 10,
   "id": "2e857170",
   "metadata": {},
   "outputs": [],
   "source": [
    "test_gen = FullBatchLinkGenerator(G_test, method=\"gat\")\n",
    "test_flow = test_gen.flow(edge_ids_test, edge_labels_test)"
   ]
  },
  {
   "cell_type": "code",
   "execution_count": 11,
   "id": "6f865cc4",
   "metadata": {},
   "outputs": [
    {
     "name": "stdout",
     "output_type": "stream",
     "text": [
      "1/1 [==============================] - 2s 2s/step - loss: 1.1025 - acc: 0.5000\n",
      "1/1 [==============================] - 0s 155ms/step - loss: 1.1023 - acc: 0.5000\n"
     ]
    }
   ],
   "source": [
    "init_train_metrics = model.evaluate(train_flow)\n",
    "init_test_metrics = model.evaluate(test_flow)\n"
   ]
  },
  {
   "cell_type": "code",
   "execution_count": 12,
   "id": "9fbcfe9f",
   "metadata": {},
   "outputs": [
    {
     "name": "stdout",
     "output_type": "stream",
     "text": [
      "\n",
      "Train Set Metrics of the initial (untrained) model:\n",
      "\tloss: 1.1025\n",
      "\tacc: 0.5000\n",
      "\n",
      "Test Set Metrics of the initial (untrained) model:\n",
      "\tloss: 1.1023\n",
      "\tacc: 0.5000\n"
     ]
    }
   ],
   "source": [
    "\n",
    "print(\"\\nTrain Set Metrics of the initial (untrained) model:\")\n",
    "for name, val in zip(model.metrics_names, init_train_metrics):\n",
    "    print(\"\\t{}: {:0.4f}\".format(name, val))\n",
    "\n",
    "print(\"\\nTest Set Metrics of the initial (untrained) model:\")\n",
    "for name, val in zip(model.metrics_names, init_test_metrics):\n",
    "    print(\"\\t{}: {:0.4f}\".format(name, val))"
   ]
  },
  {
   "cell_type": "code",
   "execution_count": 13,
   "id": "d762bf8b",
   "metadata": {},
   "outputs": [
    {
     "name": "stdout",
     "output_type": "stream",
     "text": [
      "Epoch 1/50\n"
     ]
    },
    {
     "name": "stderr",
     "output_type": "stream",
     "text": [
      "2023-07-15 08:43:37.383494: I tensorflow/compiler/xla/service/service.cc:173] XLA service 0x7f3740015cd0 initialized for platform CUDA (this does not guarantee that XLA will be used). Devices:\n",
      "2023-07-15 08:43:37.383572: I tensorflow/compiler/xla/service/service.cc:181]   StreamExecutor device (0): Tesla V100-SXM2-32GB, Compute Capability 7.0\n",
      "2023-07-15 08:43:37.400867: I tensorflow/compiler/mlir/tensorflow/utils/dump_mlir_util.cc:268] disabling MLIR crash reproducer, set env var `MLIR_CRASH_REPRODUCER_DIRECTORY` to enable.\n",
      "2023-07-15 08:43:38.044681: I tensorflow/compiler/jit/xla_compilation_cache.cc:477] Compiled cluster using XLA!  This line is logged at most once for the lifetime of the process.\n"
     ]
    },
    {
     "name": "stdout",
     "output_type": "stream",
     "text": [
      "1/1 - 7s - loss: 1.0994 - acc: 0.5000 - val_loss: 1.0137 - val_acc: 0.5000 - 7s/epoch - 7s/step\n",
      "Epoch 2/50\n",
      "1/1 - 0s - loss: 1.0350 - acc: 0.5000 - val_loss: 0.7358 - val_acc: 0.5074 - 286ms/epoch - 286ms/step\n",
      "Epoch 3/50\n",
      "1/1 - 0s - loss: 0.8567 - acc: 0.4867 - val_loss: 0.7470 - val_acc: 0.5194 - 255ms/epoch - 255ms/step\n",
      "Epoch 4/50\n",
      "1/1 - 0s - loss: 0.8325 - acc: 0.5318 - val_loss: 0.7874 - val_acc: 0.5074 - 266ms/epoch - 266ms/step\n",
      "Epoch 5/50\n",
      "1/1 - 0s - loss: 0.7789 - acc: 0.5871 - val_loss: 0.7486 - val_acc: 0.5258 - 282ms/epoch - 282ms/step\n",
      "Epoch 6/50\n",
      "1/1 - 0s - loss: 0.8481 - acc: 0.5430 - val_loss: 0.6888 - val_acc: 0.5443 - 281ms/epoch - 281ms/step\n",
      "Epoch 7/50\n",
      "1/1 - 0s - loss: 0.7686 - acc: 0.5861 - val_loss: 0.6656 - val_acc: 0.5969 - 249ms/epoch - 249ms/step\n",
      "Epoch 8/50\n",
      "1/1 - 0s - loss: 0.7441 - acc: 0.5676 - val_loss: 0.6631 - val_acc: 0.6162 - 263ms/epoch - 263ms/step\n",
      "Epoch 9/50\n",
      "1/1 - 0s - loss: 0.7301 - acc: 0.5799 - val_loss: 0.6595 - val_acc: 0.6218 - 265ms/epoch - 265ms/step\n",
      "Epoch 10/50\n",
      "1/1 - 0s - loss: 0.7090 - acc: 0.5850 - val_loss: 0.6529 - val_acc: 0.6301 - 272ms/epoch - 272ms/step\n",
      "Epoch 11/50\n",
      "1/1 - 0s - loss: 0.7301 - acc: 0.5686 - val_loss: 0.6454 - val_acc: 0.6181 - 268ms/epoch - 268ms/step\n",
      "Epoch 12/50\n",
      "1/1 - 0s - loss: 0.7232 - acc: 0.5738 - val_loss: 0.6455 - val_acc: 0.6098 - 274ms/epoch - 274ms/step\n",
      "Epoch 13/50\n",
      "1/1 - 0s - loss: 0.7039 - acc: 0.6055 - val_loss: 0.6539 - val_acc: 0.5941 - 270ms/epoch - 270ms/step\n",
      "Epoch 14/50\n",
      "1/1 - 0s - loss: 0.6766 - acc: 0.6117 - val_loss: 0.6675 - val_acc: 0.5941 - 287ms/epoch - 287ms/step\n",
      "Epoch 15/50\n",
      "1/1 - 0s - loss: 0.6789 - acc: 0.6055 - val_loss: 0.6744 - val_acc: 0.5913 - 267ms/epoch - 267ms/step\n",
      "Epoch 16/50\n",
      "1/1 - 0s - loss: 0.6322 - acc: 0.6486 - val_loss: 0.6823 - val_acc: 0.5932 - 288ms/epoch - 288ms/step\n",
      "Epoch 17/50\n",
      "1/1 - 0s - loss: 0.6560 - acc: 0.6240 - val_loss: 0.6741 - val_acc: 0.5959 - 279ms/epoch - 279ms/step\n",
      "Epoch 18/50\n",
      "1/1 - 0s - loss: 0.6228 - acc: 0.6496 - val_loss: 0.6618 - val_acc: 0.6052 - 269ms/epoch - 269ms/step\n",
      "Epoch 19/50\n",
      "1/1 - 0s - loss: 0.6292 - acc: 0.6414 - val_loss: 0.6449 - val_acc: 0.6264 - 279ms/epoch - 279ms/step\n",
      "Epoch 20/50\n",
      "1/1 - 0s - loss: 0.5957 - acc: 0.6609 - val_loss: 0.6420 - val_acc: 0.6328 - 266ms/epoch - 266ms/step\n",
      "Epoch 21/50\n",
      "1/1 - 0s - loss: 0.6283 - acc: 0.6434 - val_loss: 0.6548 - val_acc: 0.6264 - 272ms/epoch - 272ms/step\n",
      "Epoch 22/50\n",
      "1/1 - 0s - loss: 0.5869 - acc: 0.6680 - val_loss: 0.6763 - val_acc: 0.6162 - 268ms/epoch - 268ms/step\n",
      "Epoch 23/50\n",
      "1/1 - 0s - loss: 0.6032 - acc: 0.6793 - val_loss: 0.7006 - val_acc: 0.6061 - 286ms/epoch - 286ms/step\n",
      "Epoch 24/50\n",
      "1/1 - 0s - loss: 0.5945 - acc: 0.6650 - val_loss: 0.7194 - val_acc: 0.6070 - 279ms/epoch - 279ms/step\n",
      "Epoch 25/50\n",
      "1/1 - 0s - loss: 0.5721 - acc: 0.7070 - val_loss: 0.7291 - val_acc: 0.6089 - 281ms/epoch - 281ms/step\n",
      "Epoch 26/50\n",
      "1/1 - 0s - loss: 0.5593 - acc: 0.6926 - val_loss: 0.7232 - val_acc: 0.6144 - 260ms/epoch - 260ms/step\n",
      "Epoch 27/50\n",
      "1/1 - 0s - loss: 0.5559 - acc: 0.7111 - val_loss: 0.7002 - val_acc: 0.6310 - 287ms/epoch - 287ms/step\n",
      "Epoch 28/50\n",
      "1/1 - 0s - loss: 0.5471 - acc: 0.7080 - val_loss: 0.6802 - val_acc: 0.6365 - 278ms/epoch - 278ms/step\n",
      "Epoch 29/50\n",
      "1/1 - 0s - loss: 0.5414 - acc: 0.7100 - val_loss: 0.6577 - val_acc: 0.6541 - 258ms/epoch - 258ms/step\n",
      "Epoch 30/50\n",
      "1/1 - 0s - loss: 0.5242 - acc: 0.7234 - val_loss: 0.6542 - val_acc: 0.6624 - 277ms/epoch - 277ms/step\n",
      "Epoch 31/50\n",
      "1/1 - 0s - loss: 0.5438 - acc: 0.7039 - val_loss: 0.6633 - val_acc: 0.6559 - 266ms/epoch - 266ms/step\n",
      "Epoch 32/50\n",
      "1/1 - 0s - loss: 0.5540 - acc: 0.7080 - val_loss: 0.6869 - val_acc: 0.6485 - 273ms/epoch - 273ms/step\n",
      "Epoch 33/50\n",
      "1/1 - 0s - loss: 0.5096 - acc: 0.7264 - val_loss: 0.7255 - val_acc: 0.6402 - 268ms/epoch - 268ms/step\n",
      "Epoch 34/50\n",
      "1/1 - 0s - loss: 0.5290 - acc: 0.7346 - val_loss: 0.7662 - val_acc: 0.6338 - 282ms/epoch - 282ms/step\n",
      "Epoch 35/50\n",
      "1/1 - 0s - loss: 0.5273 - acc: 0.7285 - val_loss: 0.7819 - val_acc: 0.6375 - 265ms/epoch - 265ms/step\n",
      "Epoch 36/50\n",
      "1/1 - 0s - loss: 0.5174 - acc: 0.7326 - val_loss: 0.7770 - val_acc: 0.6384 - 249ms/epoch - 249ms/step\n",
      "Epoch 37/50\n",
      "1/1 - 0s - loss: 0.5201 - acc: 0.7234 - val_loss: 0.7507 - val_acc: 0.6411 - 276ms/epoch - 276ms/step\n",
      "Epoch 38/50\n",
      "1/1 - 0s - loss: 0.5246 - acc: 0.7326 - val_loss: 0.7186 - val_acc: 0.6513 - 252ms/epoch - 252ms/step\n",
      "Epoch 39/50\n",
      "1/1 - 0s - loss: 0.4953 - acc: 0.7418 - val_loss: 0.7056 - val_acc: 0.6559 - 228ms/epoch - 228ms/step\n",
      "Epoch 40/50\n",
      "1/1 - 0s - loss: 0.5026 - acc: 0.7490 - val_loss: 0.6929 - val_acc: 0.6605 - 245ms/epoch - 245ms/step\n",
      "Epoch 41/50\n",
      "1/1 - 0s - loss: 0.5194 - acc: 0.7223 - val_loss: 0.6973 - val_acc: 0.6605 - 216ms/epoch - 216ms/step\n",
      "Epoch 42/50\n",
      "1/1 - 0s - loss: 0.4874 - acc: 0.7490 - val_loss: 0.7084 - val_acc: 0.6614 - 230ms/epoch - 230ms/step\n",
      "Epoch 43/50\n",
      "1/1 - 0s - loss: 0.4832 - acc: 0.7633 - val_loss: 0.7167 - val_acc: 0.6568 - 239ms/epoch - 239ms/step\n",
      "Epoch 44/50\n",
      "1/1 - 0s - loss: 0.4787 - acc: 0.7592 - val_loss: 0.7240 - val_acc: 0.6596 - 261ms/epoch - 261ms/step\n",
      "Epoch 45/50\n",
      "1/1 - 0s - loss: 0.4897 - acc: 0.7316 - val_loss: 0.7316 - val_acc: 0.6651 - 251ms/epoch - 251ms/step\n",
      "Epoch 46/50\n",
      "1/1 - 0s - loss: 0.5099 - acc: 0.7459 - val_loss: 0.7300 - val_acc: 0.6642 - 264ms/epoch - 264ms/step\n",
      "Epoch 47/50\n",
      "1/1 - 0s - loss: 0.4739 - acc: 0.7633 - val_loss: 0.7284 - val_acc: 0.6651 - 262ms/epoch - 262ms/step\n",
      "Epoch 48/50\n",
      "1/1 - 0s - loss: 0.4511 - acc: 0.7674 - val_loss: 0.7243 - val_acc: 0.6679 - 236ms/epoch - 236ms/step\n",
      "Epoch 49/50\n",
      "1/1 - 0s - loss: 0.4543 - acc: 0.7766 - val_loss: 0.7185 - val_acc: 0.6697 - 229ms/epoch - 229ms/step\n",
      "Epoch 50/50\n",
      "1/1 - 0s - loss: 0.4712 - acc: 0.7654 - val_loss: 0.7185 - val_acc: 0.6725 - 265ms/epoch - 265ms/step\n"
     ]
    }
   ],
   "source": [
    "\n",
    "#$$ ran    \n",
    "history = model.fit(\n",
    "    train_flow, epochs=50, validation_data=test_flow, verbose=2, shuffle=False\n",
    ")"
   ]
  },
  {
   "cell_type": "code",
   "execution_count": 14,
   "id": "191f8bc6",
   "metadata": {},
   "outputs": [
    {
     "data": {
      "image/png": "[encoded data removed]",
      "text/plain": [
       "<Figure size 700x800 with 2 Axes>"
      ]
     },
     "metadata": {},
     "output_type": "display_data"
    }
   ],
   "source": [
    "import stellargraph as sg\n",
    "\n",
    "sg.utils.plot_history(history)"
   ]
  },
  {
   "cell_type": "code",
   "execution_count": 15,
   "id": "c975dcb5",
   "metadata": {},
   "outputs": [
    {
     "name": "stdout",
     "output_type": "stream",
     "text": [
      "1/1 [==============================] - 0s 150ms/step - loss: 0.4021 - acc: 0.8012\n"
     ]
    }
   ],
   "source": [
    "train_metrics = model.evaluate(train_flow)"
   ]
  },
  {
   "cell_type": "code",
   "execution_count": 16,
   "id": "aae3ed0b",
   "metadata": {},
   "outputs": [
    {
     "name": "stdout",
     "output_type": "stream",
     "text": [
      "1/1 [==============================] - 0s 137ms/step - loss: 0.7185 - acc: 0.6725\n"
     ]
    }
   ],
   "source": [
    "test_metrics = model.evaluate(test_flow)"
   ]
  },
  {
   "cell_type": "code",
   "execution_count": 17,
   "id": "42a207ae",
   "metadata": {},
   "outputs": [
    {
     "name": "stdout",
     "output_type": "stream",
     "text": [
      "\n",
      "Train Set Metrics of the trained model:\n",
      "\tloss: 0.4021\n",
      "\tacc: 0.8012\n"
     ]
    }
   ],
   "source": [
    "print(\"\\nTrain Set Metrics of the trained model:\")\n",
    "for name, val in zip(model.metrics_names, train_metrics):\n",
    "    print(\"\\t{}: {:0.4f}\".format(name, val))"
   ]
  },
  {
   "cell_type": "code",
   "execution_count": 18,
   "id": "1798b27c",
   "metadata": {},
   "outputs": [
    {
     "name": "stdout",
     "output_type": "stream",
     "text": [
      "\n",
      "Test Set Metrics of the trained model:\n",
      "\tloss: 0.7185\n",
      "\tacc: 0.6725\n"
     ]
    }
   ],
   "source": [
    "print(\"\\nTest Set Metrics of the trained model:\")\n",
    "for name, val in zip(model.metrics_names, test_metrics):\n",
    "    print(\"\\t{}: {:0.4f}\".format(name, val))"
   ]
  }
 ],
 "metadata": {
  "kernelspec": {
   "display_name": "Python 3 (ipykernel)",
   "language": "python",
   "name": "python3"
  },
  "language_info": {
   "codemirror_mode": {
    "name": "ipython",
    "version": 3
   },
   "file_extension": ".py",
   "mimetype": "text/x-python",
   "name": "python",
   "nbconvert_exporter": "python",
   "pygments_lexer": "ipython3",
   "version": "3.10.12"
  }
 },
 "nbformat": 4,
 "nbformat_minor": 5
}
